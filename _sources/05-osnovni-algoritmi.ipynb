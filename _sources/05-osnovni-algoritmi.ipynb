{
 "cells": [
  {
   "cell_type": "markdown",
   "id": "documentary-absence",
   "metadata": {},
   "source": [
    "# Osnovni algoritmi\n",
    "\n",
    "## Izračun največjega skupnega delitelja\n",
    "\n",
    "## Določitev največjega elementa\n",
    "\n",
    "## Iskanje danega elementa v seznamu\n",
    "\n",
    "## Računska zahtevnost\n",
    "\n",
    "## O-notacija\n",
    "\n",
    "## Časovna zahtevnost vgrajenih operacij"
   ]
  }
 ],
 "metadata": {
  "jupytext": {
   "cell_metadata_filter": "-all",
   "formats": "md:myst",
   "text_representation": {
    "extension": ".md",
    "format_name": "myst",
    "format_version": "0.8",
    "jupytext_version": "1.5.0"
   }
  },
  "kernelspec": {
   "display_name": "Python 3",
   "language": "python",
   "name": "python3"
  },
  "language_info": {
   "codemirror_mode": {
    "name": "ipython",
    "version": 3
   },
   "file_extension": ".py",
   "mimetype": "text/x-python",
   "name": "python",
   "nbconvert_exporter": "python",
   "pygments_lexer": "ipython3",
   "version": "3.7.9"
  },
  "source_map": [
   14
  ]
 },
 "nbformat": 4,
 "nbformat_minor": 5
}