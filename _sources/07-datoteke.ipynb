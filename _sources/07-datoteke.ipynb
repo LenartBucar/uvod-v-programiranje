{
 "cells": [
  {
   "cell_type": "markdown",
   "id": "perceived-preparation",
   "metadata": {},
   "source": [
    "# Datoteke\n",
    "\n",
    "## Branje datotek\n",
    "\n",
    "## Pisanje datotek\n",
    "\n",
    "## Delo z datotečnim sistemom\n",
    "\n",
    "## Pogosti zapisi datotek"
   ]
  }
 ],
 "metadata": {
  "jupytext": {
   "cell_metadata_filter": "-all",
   "formats": "md:myst",
   "text_representation": {
    "extension": ".md",
    "format_name": "myst",
    "format_version": "0.8",
    "jupytext_version": "1.5.0"
   }
  },
  "kernelspec": {
   "display_name": "Python 3",
   "language": "python",
   "name": "python3"
  },
  "language_info": {
   "codemirror_mode": {
    "name": "ipython",
    "version": 3
   },
   "file_extension": ".py",
   "mimetype": "text/x-python",
   "name": "python",
   "nbconvert_exporter": "python",
   "pygments_lexer": "ipython3",
   "version": "3.7.9"
  },
  "source_map": [
   14
  ]
 },
 "nbformat": 4,
 "nbformat_minor": 5
}