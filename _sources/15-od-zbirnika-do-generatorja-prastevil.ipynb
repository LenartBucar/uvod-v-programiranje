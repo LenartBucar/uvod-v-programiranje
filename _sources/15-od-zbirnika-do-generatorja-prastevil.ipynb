{
 "cells": [
  {
   "cell_type": "markdown",
   "metadata": {},
   "source": [
    "# Od zbirnika do generatorja praštevil\n",
    "\n",
    "## Spreminjanje registrov in pomnilnika\n",
    "\n",
    "## Aritmetične operacije\n",
    "\n",
    "## Primerjave in skoki\n",
    "\n",
    "## Delo s skladom\n",
    "\n",
    "## Klici funkcij"
   ]
  }
 ],
 "metadata": {
  "jupytext": {
   "cell_metadata_filter": "-all",
   "formats": "md:myst",
   "text_representation": {
    "extension": ".md",
    "format_name": "myst",
    "format_version": "0.8",
    "jupytext_version": "1.5.0"
   }
  },
  "kernelspec": {
   "display_name": "Python 3",
   "language": "python",
   "name": "python3"
  },
  "language_info": {
   "codemirror_mode": {
    "name": "ipython",
    "version": 3
   },
   "file_extension": ".py",
   "mimetype": "text/x-python",
   "name": "python",
   "nbconvert_exporter": "python",
   "pygments_lexer": "ipython3",
   "version": "3.7.8"
  },
  "source_map": [
   14
  ]
 },
 "nbformat": 4,
 "nbformat_minor": 4
}