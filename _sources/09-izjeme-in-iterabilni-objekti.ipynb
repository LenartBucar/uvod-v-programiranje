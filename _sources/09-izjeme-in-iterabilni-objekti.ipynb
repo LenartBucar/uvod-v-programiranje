{
 "cells": [
  {
   "cell_type": "markdown",
   "metadata": {},
   "source": [
    "# Izjeme & iterabilni objekti\n",
    "\n",
    "## Sprožanje in lovljenje izjem\n",
    "\n",
    "## Iteratorji\n",
    "\n",
    "## Iterabilni objekti\n",
    "\n",
    "## Generatorji\n",
    "\n",
    "## Razstavljanje iterabilnih objektov\n",
    "\n",
    "## Funkcije s poljubno mnogo argumenti"
   ]
  }
 ],
 "metadata": {
  "jupytext": {
   "cell_metadata_filter": "-all",
   "formats": "md:myst",
   "text_representation": {
    "extension": ".md",
    "format_name": "myst",
    "format_version": "0.8",
    "jupytext_version": "1.5.0"
   }
  },
  "kernelspec": {
   "display_name": "Python 3",
   "language": "python",
   "name": "python3"
  },
  "language_info": {
   "codemirror_mode": {
    "name": "ipython",
    "version": 3
   },
   "file_extension": ".py",
   "mimetype": "text/x-python",
   "name": "python",
   "nbconvert_exporter": "python",
   "pygments_lexer": "ipython3",
   "version": "3.7.7"
  },
  "source_map": [
   14
  ]
 },
 "nbformat": 4,
 "nbformat_minor": 4
}