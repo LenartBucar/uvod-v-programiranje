{
 "cells": [
  {
   "cell_type": "markdown",
   "metadata": {},
   "source": [
    "# Zanke\n",
    "\n",
    "Rekurzivni klici nam omogočajo, da se pri izvajanju poljubno mnogokrat vrnemo na poljubne konce programa. V veliki večini primerov pa nam je dovolj že to, da ponovimo določen del programa. Temu so namenjene zanke.\n",
    "\n",
    "## Zanka `while`\n",
    "\n",
    "\n",
    "Z zanko `while` določene ukaze izvajamo toliko časa, dokler velja dani pogoj. Pišemo jo kot\n",
    "\n",
    "```{code-block}\n",
    "while pogoj:\n",
    "    # stavki, ki jih ponavljamo\n",
    "    # od prvega do zadnjega,\n",
    "    # dokler velja pogoj\n",
    "```\n",
    "\n",
    "Na primer, program"
   ]
  },
  {
   "cell_type": "code",
   "execution_count": 1,
   "metadata": {
    "execution": {
     "iopub.execute_input": "2020-08-07T08:45:25.359508Z",
     "iopub.status.busy": "2020-08-07T08:45:25.357862Z",
     "iopub.status.idle": "2020-08-07T08:45:25.363451Z",
     "shell.execute_reply": "2020-08-07T08:45:25.362991Z"
    }
   },
   "outputs": [
    {
     "name": "stdout",
     "output_type": "stream",
     "text": [
      "24\n",
      "48\n",
      "96\n",
      "192\n",
      "384\n",
      "768\n",
      "1536\n"
     ]
    }
   ],
   "source": [
    "n = 12\n",
    "while n < 1000:\n",
    "    n = n * 2\n",
    "    print(n)"
   ]
  },
  {
   "cell_type": "markdown",
   "metadata": {},
   "source": [
    "bo `n` nastavil na 12, nato pa ga toliko časa podvojeval in izpisoval, dokler njegova vrednost ne bo presegla 1000.\n",
    "\n",
    "V programih bomo pogostokrat novo vrednost spremenljivke izračunali tako, da bomo spremenili staro (zato tudi govorimo o spremenljivkah). Na primer, ko bomo šteli vsa praštevila med 1 in 1000000, bomo imeli spremenljivko, ki bo imela na začetku vrednost 0, nato pa jo bomo ob vsakem praštevilu povečali za 1\\. V ta namen lahko namesto `n = n * 2` pišemo kar operator `n *= 2`, saj je `*=` operacija, ki spremenljivko na levi pomnoži z vrednostjo na desni. Tudi za ostale operacije obstajajo podobne bližnjice, na primer `-=`, `*=`, `//=` in tako naprej."
   ]
  },
  {
   "cell_type": "code",
   "execution_count": 2,
   "metadata": {
    "execution": {
     "iopub.execute_input": "2020-08-07T08:45:25.373033Z",
     "iopub.status.busy": "2020-08-07T08:45:25.370874Z",
     "iopub.status.idle": "2020-08-07T08:45:25.375861Z",
     "shell.execute_reply": "2020-08-07T08:45:25.376295Z"
    }
   },
   "outputs": [
    {
     "data": {
      "text/plain": [
       "20"
      ]
     },
     "execution_count": 2,
     "metadata": {},
     "output_type": "execute_result"
    }
   ],
   "source": [
    "x = 3\n",
    "x += 2\n",
    "x *= 4\n",
    "x"
   ]
  },
  {
   "cell_type": "markdown",
   "metadata": {},
   "source": [
    "Zgornji program bi tako na krajše lahko napisali kot:"
   ]
  },
  {
   "cell_type": "code",
   "execution_count": 3,
   "metadata": {
    "execution": {
     "iopub.execute_input": "2020-08-07T08:45:25.381183Z",
     "iopub.status.busy": "2020-08-07T08:45:25.380632Z",
     "iopub.status.idle": "2020-08-07T08:45:25.383103Z",
     "shell.execute_reply": "2020-08-07T08:45:25.383568Z"
    }
   },
   "outputs": [
    {
     "name": "stdout",
     "output_type": "stream",
     "text": [
      "24\n",
      "48\n",
      "96\n",
      "192\n",
      "384\n",
      "768\n",
      "1536\n"
     ]
    }
   ],
   "source": [
    "n = 12\n",
    "while n < 1000:\n",
    "    n *= 2\n",
    "    print(n)"
   ]
  },
  {
   "cell_type": "markdown",
   "metadata": {},
   "source": [
    "Za primer izračunajmo stopnjo največje potence števila 2, ki še deli število 1580160\\. To storimo tako, da število zaporedoma celoštevilsko delimo z 2 in ob vsakem deljenju števec stopnje povečamo za 1\\. Ukaze ponavljamo toliko časa, dokler je ostanek pri deljenju z 2 enak 0:"
   ]
  },
  {
   "cell_type": "code",
   "execution_count": 4,
   "metadata": {
    "execution": {
     "iopub.execute_input": "2020-08-07T08:45:25.388505Z",
     "iopub.status.busy": "2020-08-07T08:45:25.387438Z",
     "iopub.status.idle": "2020-08-07T08:45:25.391308Z",
     "shell.execute_reply": "2020-08-07T08:45:25.391728Z"
    }
   },
   "outputs": [
    {
     "name": "stdout",
     "output_type": "stream",
     "text": [
      "1\n",
      "2\n",
      "3\n",
      "4\n",
      "5\n",
      "6\n",
      "7\n"
     ]
    },
    {
     "data": {
      "text/plain": [
       "7"
      ]
     },
     "execution_count": 4,
     "metadata": {},
     "output_type": "execute_result"
    }
   ],
   "source": [
    "n = 1580160\n",
    "stopnja = 0\n",
    "while n % 2 == 0:\n",
    "    n //= 2\n",
    "    stopnja += 1\n",
    "    print(stopnja)\n",
    "stopnja"
   ]
  },
  {
   "cell_type": "markdown",
   "metadata": {},
   "source": [
    "Program bi lahko pretvorili tudi v splošnejšo funkcijo:"
   ]
  },
  {
   "cell_type": "code",
   "execution_count": 5,
   "metadata": {
    "execution": {
     "iopub.execute_input": "2020-08-07T08:45:25.397347Z",
     "iopub.status.busy": "2020-08-07T08:45:25.396111Z",
     "iopub.status.idle": "2020-08-07T08:45:25.397981Z",
     "shell.execute_reply": "2020-08-07T08:45:25.398432Z"
    }
   },
   "outputs": [],
   "source": [
    "def celostevilski_logaritem(n, k):\n",
    "    \"\"\"Vrne stopnjo največje potence števila k, ki še deli n.\"\"\"\n",
    "    stopnja = 0\n",
    "    while n % k == 0:\n",
    "        n //= k\n",
    "        stopnja += 1\n",
    "    return stopnja"
   ]
  },
  {
   "cell_type": "code",
   "execution_count": 6,
   "metadata": {
    "execution": {
     "iopub.execute_input": "2020-08-07T08:45:25.403052Z",
     "iopub.status.busy": "2020-08-07T08:45:25.402425Z",
     "iopub.status.idle": "2020-08-07T08:45:25.405323Z",
     "shell.execute_reply": "2020-08-07T08:45:25.405786Z"
    }
   },
   "outputs": [
    {
     "data": {
      "text/plain": [
       "4"
      ]
     },
     "execution_count": 6,
     "metadata": {},
     "output_type": "execute_result"
    }
   ],
   "source": [
    "celostevilski_logaritem(81, 3)"
   ]
  },
  {
   "cell_type": "code",
   "execution_count": 7,
   "metadata": {
    "execution": {
     "iopub.execute_input": "2020-08-07T08:45:25.409545Z",
     "iopub.status.busy": "2020-08-07T08:45:25.408967Z",
     "iopub.status.idle": "2020-08-07T08:45:25.412934Z",
     "shell.execute_reply": "2020-08-07T08:45:25.412399Z"
    }
   },
   "outputs": [
    {
     "data": {
      "text/plain": [
       "7"
      ]
     },
     "execution_count": 7,
     "metadata": {},
     "output_type": "execute_result"
    }
   ],
   "source": [
    "celostevilski_logaritem(1580160, 2)"
   ]
  },
  {
   "cell_type": "markdown",
   "metadata": {},
   "source": [
    "Isto funkcijo bi lahko napisali tudi z rekurzijo:"
   ]
  },
  {
   "cell_type": "code",
   "execution_count": 8,
   "metadata": {
    "execution": {
     "iopub.execute_input": "2020-08-07T08:45:25.417724Z",
     "iopub.status.busy": "2020-08-07T08:45:25.416517Z",
     "iopub.status.idle": "2020-08-07T08:45:25.418360Z",
     "shell.execute_reply": "2020-08-07T08:45:25.418820Z"
    }
   },
   "outputs": [],
   "source": [
    "def celostevilski_logaritem_rek(n, k):\n",
    "    \"\"\"Vrne stopnjo največje potence števila k, ki še deli n.\"\"\"\n",
    "    if n % k == 0:\n",
    "        return 1 + celostevilski_logaritem_rek(n // k, k)\n",
    "    else:\n",
    "        return 0"
   ]
  },
  {
   "cell_type": "code",
   "execution_count": 9,
   "metadata": {
    "execution": {
     "iopub.execute_input": "2020-08-07T08:45:25.423285Z",
     "iopub.status.busy": "2020-08-07T08:45:25.422682Z",
     "iopub.status.idle": "2020-08-07T08:45:25.425360Z",
     "shell.execute_reply": "2020-08-07T08:45:25.425783Z"
    }
   },
   "outputs": [
    {
     "data": {
      "text/plain": [
       "4"
      ]
     },
     "execution_count": 9,
     "metadata": {},
     "output_type": "execute_result"
    }
   ],
   "source": [
    "celostevilski_logaritem_rek(81, 3)"
   ]
  },
  {
   "cell_type": "code",
   "execution_count": 10,
   "metadata": {
    "execution": {
     "iopub.execute_input": "2020-08-07T08:45:25.430296Z",
     "iopub.status.busy": "2020-08-07T08:45:25.429527Z",
     "iopub.status.idle": "2020-08-07T08:45:25.432049Z",
     "shell.execute_reply": "2020-08-07T08:45:25.432460Z"
    }
   },
   "outputs": [
    {
     "data": {
      "text/plain": [
       "7"
      ]
     },
     "execution_count": 10,
     "metadata": {},
     "output_type": "execute_result"
    }
   ],
   "source": [
    "celostevilski_logaritem_rek(1580160, 2)"
   ]
  },
  {
   "cell_type": "markdown",
   "metadata": {},
   "source": [
    "Vseeno v praksi za tiste programe, pri katerih neko stvar ponavljamo toliko časa, dokler velja določen pogoj, raje uporabimo zanko `while`, saj je učinkovitejša (vsaj v Pythonu, v drugih jezikih je rekurzija ravno tako učinkovita). Poleg tega se Python pritoži, če gremo pri rekurziji pregloboko. Običajno se to zgodi takrat, kadar smo rekurzijo napisali tako, da se ne ustavi. Vendar računalnik tega ne more vedeti, zato se Python ustavi po določenem številu klicev ustavi:"
   ]
  },
  {
   "cell_type": "code",
   "execution_count": 11,
   "metadata": {
    "execution": {
     "iopub.execute_input": "2020-08-07T08:45:25.443806Z",
     "iopub.status.busy": "2020-08-07T08:45:25.439711Z",
     "iopub.status.idle": "2020-08-07T08:45:25.445828Z",
     "shell.execute_reply": "2020-08-07T08:45:25.446189Z"
    }
   },
   "outputs": [
    {
     "data": {
      "text/plain": [
       "2959"
      ]
     },
     "execution_count": 11,
     "metadata": {},
     "output_type": "execute_result"
    }
   ],
   "source": [
    "celostevilski_logaritem_rek(2 ** 2959, 2)"
   ]
  },
  {
   "cell_type": "code",
   "execution_count": 12,
   "metadata": {
    "execution": {
     "iopub.execute_input": "2020-08-07T08:45:25.457627Z",
     "iopub.status.busy": "2020-08-07T08:45:25.453228Z",
     "iopub.status.idle": "2020-08-07T08:45:28.366474Z",
     "shell.execute_reply": "2020-08-07T08:45:28.365493Z"
    },
    "tags": [
     "raises-exception"
    ]
   },
   "outputs": [
    {
     "ename": "RecursionError",
     "evalue": "maximum recursion depth exceeded in comparison",
     "output_type": "error",
     "traceback": [
      "\u001b[0;31m---------------------------------------------------------------------------\u001b[0m",
      "\u001b[0;31mRecursionError\u001b[0m                            Traceback (most recent call last)",
      "\u001b[0;32m<ipython-input-12-aae401b5e439>\u001b[0m in \u001b[0;36m<module>\u001b[0;34m\u001b[0m\n\u001b[0;32m----> 1\u001b[0;31m \u001b[0mcelostevilski_logaritem_rek\u001b[0m\u001b[0;34m(\u001b[0m\u001b[0;36m2\u001b[0m \u001b[0;34m**\u001b[0m \u001b[0;36m2960\u001b[0m\u001b[0;34m,\u001b[0m \u001b[0;36m2\u001b[0m\u001b[0;34m)\u001b[0m\u001b[0;34m\u001b[0m\u001b[0;34m\u001b[0m\u001b[0m\n\u001b[0m",
      "\u001b[0;32m<ipython-input-8-fbdf32098d56>\u001b[0m in \u001b[0;36mcelostevilski_logaritem_rek\u001b[0;34m(n, k)\u001b[0m\n\u001b[1;32m      2\u001b[0m     \u001b[0;34m\"\"\"Vrne stopnjo največje potence števila k, ki še deli n.\"\"\"\u001b[0m\u001b[0;34m\u001b[0m\u001b[0;34m\u001b[0m\u001b[0m\n\u001b[1;32m      3\u001b[0m     \u001b[0;32mif\u001b[0m \u001b[0mn\u001b[0m \u001b[0;34m%\u001b[0m \u001b[0mk\u001b[0m \u001b[0;34m==\u001b[0m \u001b[0;36m0\u001b[0m\u001b[0;34m:\u001b[0m\u001b[0;34m\u001b[0m\u001b[0;34m\u001b[0m\u001b[0m\n\u001b[0;32m----> 4\u001b[0;31m         \u001b[0;32mreturn\u001b[0m \u001b[0;36m1\u001b[0m \u001b[0;34m+\u001b[0m \u001b[0mcelostevilski_logaritem_rek\u001b[0m\u001b[0;34m(\u001b[0m\u001b[0mn\u001b[0m \u001b[0;34m//\u001b[0m \u001b[0mk\u001b[0m\u001b[0;34m,\u001b[0m \u001b[0mk\u001b[0m\u001b[0;34m)\u001b[0m\u001b[0;34m\u001b[0m\u001b[0;34m\u001b[0m\u001b[0m\n\u001b[0m\u001b[1;32m      5\u001b[0m     \u001b[0;32melse\u001b[0m\u001b[0;34m:\u001b[0m\u001b[0;34m\u001b[0m\u001b[0;34m\u001b[0m\u001b[0m\n\u001b[1;32m      6\u001b[0m         \u001b[0;32mreturn\u001b[0m \u001b[0;36m0\u001b[0m\u001b[0;34m\u001b[0m\u001b[0;34m\u001b[0m\u001b[0m\n",
      "... last 1 frames repeated, from the frame below ...\n",
      "\u001b[0;32m<ipython-input-8-fbdf32098d56>\u001b[0m in \u001b[0;36mcelostevilski_logaritem_rek\u001b[0;34m(n, k)\u001b[0m\n\u001b[1;32m      2\u001b[0m     \u001b[0;34m\"\"\"Vrne stopnjo največje potence števila k, ki še deli n.\"\"\"\u001b[0m\u001b[0;34m\u001b[0m\u001b[0;34m\u001b[0m\u001b[0m\n\u001b[1;32m      3\u001b[0m     \u001b[0;32mif\u001b[0m \u001b[0mn\u001b[0m \u001b[0;34m%\u001b[0m \u001b[0mk\u001b[0m \u001b[0;34m==\u001b[0m \u001b[0;36m0\u001b[0m\u001b[0;34m:\u001b[0m\u001b[0;34m\u001b[0m\u001b[0;34m\u001b[0m\u001b[0m\n\u001b[0;32m----> 4\u001b[0;31m         \u001b[0;32mreturn\u001b[0m \u001b[0;36m1\u001b[0m \u001b[0;34m+\u001b[0m \u001b[0mcelostevilski_logaritem_rek\u001b[0m\u001b[0;34m(\u001b[0m\u001b[0mn\u001b[0m \u001b[0;34m//\u001b[0m \u001b[0mk\u001b[0m\u001b[0;34m,\u001b[0m \u001b[0mk\u001b[0m\u001b[0;34m)\u001b[0m\u001b[0;34m\u001b[0m\u001b[0;34m\u001b[0m\u001b[0m\n\u001b[0m\u001b[1;32m      5\u001b[0m     \u001b[0;32melse\u001b[0m\u001b[0;34m:\u001b[0m\u001b[0;34m\u001b[0m\u001b[0;34m\u001b[0m\u001b[0m\n\u001b[1;32m      6\u001b[0m         \u001b[0;32mreturn\u001b[0m \u001b[0;36m0\u001b[0m\u001b[0;34m\u001b[0m\u001b[0;34m\u001b[0m\u001b[0m\n",
      "\u001b[0;31mRecursionError\u001b[0m: maximum recursion depth exceeded in comparison"
     ]
    }
   ],
   "source": [
    "celostevilski_logaritem_rek(2 ** 2960, 2)"
   ]
  },
  {
   "cell_type": "markdown",
   "metadata": {},
   "source": [
    "Pri zankah teh težav ni:"
   ]
  },
  {
   "cell_type": "code",
   "execution_count": 13,
   "metadata": {
    "execution": {
     "iopub.execute_input": "2020-08-07T08:45:28.477732Z",
     "iopub.status.busy": "2020-08-07T08:45:28.477144Z",
     "iopub.status.idle": "2020-08-07T08:45:28.482857Z",
     "shell.execute_reply": "2020-08-07T08:45:28.482312Z"
    }
   },
   "outputs": [
    {
     "data": {
      "text/plain": [
       "2959"
      ]
     },
     "execution_count": 13,
     "metadata": {},
     "output_type": "execute_result"
    }
   ],
   "source": [
    "celostevilski_logaritem(2 ** 2959, 2)"
   ]
  },
  {
   "cell_type": "code",
   "execution_count": 14,
   "metadata": {
    "execution": {
     "iopub.execute_input": "2020-08-07T08:45:28.492533Z",
     "iopub.status.busy": "2020-08-07T08:45:28.491590Z",
     "iopub.status.idle": "2020-08-07T08:45:28.494261Z",
     "shell.execute_reply": "2020-08-07T08:45:28.494655Z"
    }
   },
   "outputs": [
    {
     "data": {
      "text/plain": [
       "2960"
      ]
     },
     "execution_count": 14,
     "metadata": {},
     "output_type": "execute_result"
    }
   ],
   "source": [
    "celostevilski_logaritem(2 ** 2960, 2)"
   ]
  },
  {
   "cell_type": "code",
   "execution_count": 15,
   "metadata": {
    "execution": {
     "iopub.execute_input": "2020-08-07T08:45:28.522891Z",
     "iopub.status.busy": "2020-08-07T08:45:28.507284Z",
     "iopub.status.idle": "2020-08-07T08:45:28.551513Z",
     "shell.execute_reply": "2020-08-07T08:45:28.552049Z"
    }
   },
   "outputs": [
    {
     "data": {
      "text/plain": [
       "10000"
      ]
     },
     "execution_count": 15,
     "metadata": {},
     "output_type": "execute_result"
    }
   ],
   "source": [
    "celostevilski_logaritem(2 ** 10000, 2)"
   ]
  },
  {
   "cell_type": "markdown",
   "metadata": {},
   "source": [
    "Se pa lahko pri zanki `while` zgodi, da se njeno izvajanje nikoli ne zaključi. Na primer, če bi poklicali `celostevilski_logaritem(12345, 1)`,\n",
    "bi bil ostanek pri deljenju z 1 v pogoju vedno enak 0 in zanka bi tekla v neskončnost. Ko se naveličamo čakanja, lahko pritisnemo `Ctrl-C` in izvajanje prekinemo.\n",
    "\n",
    "## Zanka `for`\n",
    "\n",
    "Zanko `while` torej uporabimo takrat, kadar želimo ukaze ponavljati, dokler velja nek pogoj. Včasih pa že vnaprej vemo, kolikokrat bomo te ukaze ponovili. Na primer, funkcijo za izračun fakultete bi lahko pisali kot:"
   ]
  },
  {
   "cell_type": "code",
   "execution_count": 16,
   "metadata": {
    "execution": {
     "iopub.execute_input": "2020-08-07T08:45:28.556964Z",
     "iopub.status.busy": "2020-08-07T08:45:28.555778Z",
     "iopub.status.idle": "2020-08-07T08:45:28.557657Z",
     "shell.execute_reply": "2020-08-07T08:45:28.558152Z"
    }
   },
   "outputs": [],
   "source": [
    "def fakulteta(n):\n",
    "    \"\"\"Vrne fakulteto naravnega števila n.\"\"\"\n",
    "    produkt = 1\n",
    "    i = 1\n",
    "    while i <= n:\n",
    "        produkt *= i\n",
    "        i += 1\n",
    "    return produkt"
   ]
  },
  {
   "cell_type": "markdown",
   "metadata": {},
   "source": [
    "vendar vemo, da se bo zanka izvedla natanko enkrat za vsako število od 1 do `n`. Poleg tega se nam hitro zgodi, da vrstico `i += 1` po nesreči pozabimo ali napišemo kot `i + 1` ali kot `i = 1`, zaradi česar se zanka izvaja v neskončnost. Za primere, ko vemo, kolikokrat izvedemo določeno kodo, raje uporabimo zanko `for`, ki jo pišemo kot:\n",
    "\n",
    "```{code-block}\n",
    "for spremenljivka in vrednosti:\n",
    "    # stavki, ki jih izvedemo\n",
    "    # po enkrat za vsako izmed\n",
    "    # podanih vrednost spremenljivke\n",
    "```\n",
    "\n",
    "izvede pa se enako, kot če bi napisali\n",
    "```{code-block}\n",
    "# v spremenljivko shrani prvo vrednost\n",
    "# izvedi vse stavke v telesu zanke\n",
    "# v spremenljivko shrani drugo vrednost\n",
    "# izvedi vse stavke v telesu zanke\n",
    "# ...\n",
    "# v spremenljivko shrani zadnjo vrednost\n",
    "# izvedi vse stavke v telesu zanke\n",
    "```\n",
    "\n",
    "Na primer, čez vse črke danega niza se sprehodimo kot:"
   ]
  },
  {
   "cell_type": "code",
   "execution_count": 17,
   "metadata": {
    "execution": {
     "iopub.execute_input": "2020-08-07T08:45:28.563867Z",
     "iopub.status.busy": "2020-08-07T08:45:28.562478Z",
     "iopub.status.idle": "2020-08-07T08:45:28.565673Z",
     "shell.execute_reply": "2020-08-07T08:45:28.565161Z"
    }
   },
   "outputs": [
    {
     "name": "stdout",
     "output_type": "stream",
     "text": [
      "t\n",
      "o\n",
      " \n",
      "j\n",
      "e\n",
      " \n",
      "e\n",
      "n\n",
      " \n",
      "n\n",
      "i\n",
      "z\n"
     ]
    }
   ],
   "source": [
    "for znak in 'to je en niz':\n",
    "    print(znak)"
   ]
  },
  {
   "cell_type": "markdown",
   "metadata": {},
   "source": [
    "samoglasnike pa lahko preštejemo kot:"
   ]
  },
  {
   "cell_type": "code",
   "execution_count": 18,
   "metadata": {
    "execution": {
     "iopub.execute_input": "2020-08-07T08:45:28.569867Z",
     "iopub.status.busy": "2020-08-07T08:45:28.569309Z",
     "iopub.status.idle": "2020-08-07T08:45:28.572853Z",
     "shell.execute_reply": "2020-08-07T08:45:28.572401Z"
    }
   },
   "outputs": [],
   "source": [
    "def stevilo_samoglasnikov(niz):\n",
    "    stevilo = 0\n",
    "    for znak in niz:\n",
    "        if znak.lower() in 'aeiou':\n",
    "            stevilo += 1\n",
    "    return stevilo"
   ]
  },
  {
   "cell_type": "code",
   "execution_count": 19,
   "metadata": {
    "execution": {
     "iopub.execute_input": "2020-08-07T08:45:28.577429Z",
     "iopub.status.busy": "2020-08-07T08:45:28.576846Z",
     "iopub.status.idle": "2020-08-07T08:45:28.579578Z",
     "shell.execute_reply": "2020-08-07T08:45:28.580020Z"
    }
   },
   "outputs": [
    {
     "data": {
      "text/plain": [
       "7"
      ]
     },
     "execution_count": 19,
     "metadata": {},
     "output_type": "execute_result"
    }
   ],
   "source": [
    "stevilo_samoglasnikov('Uvod v programiranje')"
   ]
  },
  {
   "cell_type": "markdown",
   "metadata": {},
   "source": [
    "Če se želimo sprehoditi po številih, uporabimo funkcijo `range`. Ta zaporedoma vrača vsa števila v danem razponu:"
   ]
  },
  {
   "cell_type": "code",
   "execution_count": 20,
   "metadata": {
    "execution": {
     "iopub.execute_input": "2020-08-07T08:45:28.585438Z",
     "iopub.status.busy": "2020-08-07T08:45:28.584166Z",
     "iopub.status.idle": "2020-08-07T08:45:28.587239Z",
     "shell.execute_reply": "2020-08-07T08:45:28.586645Z"
    }
   },
   "outputs": [
    {
     "name": "stdout",
     "output_type": "stream",
     "text": [
      "25\n",
      "36\n",
      "49\n",
      "64\n",
      "81\n"
     ]
    }
   ],
   "source": [
    "for x in range(5, 10):\n",
    "    print(x ** 2)"
   ]
  },
  {
   "cell_type": "markdown",
   "metadata": {},
   "source": [
    "Vidimo, da tako kot rezine tudi `range` ne doseže zgornje meje. Če funkciji `range` podamo en argument, bo začela šteti z 0, če pa ji podamo še tretji argument, ga bo uporabila za velikost koraka (kot pri rezinah)."
   ]
  },
  {
   "cell_type": "code",
   "execution_count": 21,
   "metadata": {
    "execution": {
     "iopub.execute_input": "2020-08-07T08:45:28.592576Z",
     "iopub.status.busy": "2020-08-07T08:45:28.591383Z",
     "iopub.status.idle": "2020-08-07T08:45:28.594857Z",
     "shell.execute_reply": "2020-08-07T08:45:28.594309Z"
    }
   },
   "outputs": [
    {
     "name": "stdout",
     "output_type": "stream",
     "text": [
      "0\n",
      "1\n",
      "2\n",
      "3\n",
      "4\n"
     ]
    }
   ],
   "source": [
    "for x in range(5):\n",
    "    print(x)"
   ]
  },
  {
   "cell_type": "code",
   "execution_count": 22,
   "metadata": {
    "execution": {
     "iopub.execute_input": "2020-08-07T08:45:28.600551Z",
     "iopub.status.busy": "2020-08-07T08:45:28.599552Z",
     "iopub.status.idle": "2020-08-07T08:45:28.602177Z",
     "shell.execute_reply": "2020-08-07T08:45:28.602621Z"
    }
   },
   "outputs": [
    {
     "name": "stdout",
     "output_type": "stream",
     "text": [
      "5\n",
      "7\n",
      "9\n"
     ]
    }
   ],
   "source": [
    "for x in range(5, 10, 2):\n",
    "    print(x)"
   ]
  },
  {
   "cell_type": "markdown",
   "metadata": {},
   "source": [
    "S pomočjo funkcije `range` bi fakulteto torej napisali kot:"
   ]
  },
  {
   "cell_type": "code",
   "execution_count": 23,
   "metadata": {
    "execution": {
     "iopub.execute_input": "2020-08-07T08:45:28.609783Z",
     "iopub.status.busy": "2020-08-07T08:45:28.609132Z",
     "iopub.status.idle": "2020-08-07T08:45:28.610679Z",
     "shell.execute_reply": "2020-08-07T08:45:28.610272Z"
    }
   },
   "outputs": [],
   "source": [
    "def fakulteta(n):\n",
    "    \"\"\"Vrne fakulteto naravnega števila n.\"\"\"\n",
    "    produkt = 1 \n",
    "    for i in range(1, n + 1):\n",
    "        produkt *= i\n",
    "    return produkt"
   ]
  },
  {
   "cell_type": "code",
   "execution_count": 24,
   "metadata": {
    "execution": {
     "iopub.execute_input": "2020-08-07T08:45:28.615252Z",
     "iopub.status.busy": "2020-08-07T08:45:28.614457Z",
     "iopub.status.idle": "2020-08-07T08:45:28.617111Z",
     "shell.execute_reply": "2020-08-07T08:45:28.617555Z"
    }
   },
   "outputs": [
    {
     "data": {
      "text/plain": [
       "2432902008176640000"
      ]
     },
     "execution_count": 24,
     "metadata": {},
     "output_type": "execute_result"
    }
   ],
   "source": [
    "fakulteta(20)"
   ]
  },
  {
   "cell_type": "markdown",
   "metadata": {},
   "source": [
    "## Stavki `break`, `continue` in `pass`\n",
    "\n",
    "V zankah lahko uporabimo tudi posebne ukaze, ki spreminjajo običajen potek programa. Stavek `break` prekine trenutno zanko. Na primer:"
   ]
  },
  {
   "cell_type": "code",
   "execution_count": 25,
   "metadata": {
    "execution": {
     "iopub.execute_input": "2020-08-07T08:45:28.623195Z",
     "iopub.status.busy": "2020-08-07T08:45:28.621974Z",
     "iopub.status.idle": "2020-08-07T08:45:28.625234Z",
     "shell.execute_reply": "2020-08-07T08:45:28.624689Z"
    }
   },
   "outputs": [
    {
     "name": "stdout",
     "output_type": "stream",
     "text": [
      "1\n",
      "x\n",
      "2\n"
     ]
    }
   ],
   "source": [
    "for n in range(1, 5):\n",
    "    print(n)\n",
    "    if n == 2 or n == 3:\n",
    "        break\n",
    "    print('x')"
   ]
  },
  {
   "cell_type": "markdown",
   "metadata": {},
   "source": [
    "izmenično izpisuje števila od 1 do 4 ter znak `x`. V trenutku, ko pride do števila 2, ki zadošča pogoju `n == 2 or n == 3`, izvajanje zanke v celoti prekine in preneha z izpisovanjem.\n",
    "\n",
    "Primer je napisan za zanko `for`, vendar enako deluje tudi za zanko `while`.\n",
    "\n",
    "Stavek `continue` zanke ne ustavi, temveč le preskoči preostanek trenutnega obhoda zanke in gre nazaj na začetek z naslednjo vrednostjo. Na primer:"
   ]
  },
  {
   "cell_type": "code",
   "execution_count": 26,
   "metadata": {
    "execution": {
     "iopub.execute_input": "2020-08-07T08:45:28.630751Z",
     "iopub.status.busy": "2020-08-07T08:45:28.629876Z",
     "iopub.status.idle": "2020-08-07T08:45:28.632510Z",
     "shell.execute_reply": "2020-08-07T08:45:28.632038Z"
    }
   },
   "outputs": [
    {
     "name": "stdout",
     "output_type": "stream",
     "text": [
      "1\n",
      "x\n",
      "2\n",
      "3\n",
      "4\n",
      "x\n"
     ]
    }
   ],
   "source": [
    "for n in range(1, 5):\n",
    "    print(n)\n",
    "    if n == 2 or n == 3:\n",
    "        continue\n",
    "    print('x')"
   ]
  },
  {
   "cell_type": "markdown",
   "metadata": {},
   "source": [
    "pri številih 2 in 3, ki zadoščata pogoju, preskoči izpis znaka `x`, ki bi moral slediti.\n",
    "\n",
    "Tudi stavek `continue` deluje tako za zanko `for` kot za zanko `while`.\n",
    "\n",
    "Stavek `pass` pa ne stori ničesar. Na primer:"
   ]
  },
  {
   "cell_type": "code",
   "execution_count": 27,
   "metadata": {
    "execution": {
     "iopub.execute_input": "2020-08-07T08:45:28.638308Z",
     "iopub.status.busy": "2020-08-07T08:45:28.637096Z",
     "iopub.status.idle": "2020-08-07T08:45:28.640083Z",
     "shell.execute_reply": "2020-08-07T08:45:28.639615Z"
    }
   },
   "outputs": [
    {
     "name": "stdout",
     "output_type": "stream",
     "text": [
      "1\n",
      "x\n",
      "2\n",
      "x\n",
      "3\n",
      "x\n",
      "4\n",
      "x\n"
     ]
    }
   ],
   "source": [
    "for n in range(1, 5):\n",
    "    print(n)\n",
    "    if n == 2 or n == 3:\n",
    "        pass\n",
    "    print('x')"
   ]
  },
  {
   "cell_type": "markdown",
   "metadata": {},
   "source": [
    "pri številih 2 in 3, ki zadoščata pogoju, vstopi v pogojni stavek, vendar tam ne stori ničesar, zato je izpis enak, kakor bi bil za program brez pogojnega stavka.\n",
    "\n",
    "Stavek `pass` lahko uporabljamo kjerkoli v Pythonu, ne le v zankah. Najpogosteje ga uporabimo takrat, kadar Python zahteva, da napišemo vsaj en ukaz, vendar ne želimo storiti ničesar. Recimo, da imamo program:\n",
    "\n",
    "```{code-block}\n",
    "for x in range(100):\n",
    "    if x % 2 == 0:\n",
    "        print(x, 'je sod')\n",
    "    else:\n",
    "        print(x, 'je lih')\n",
    "```\n",
    "\n",
    "in za trenutek želimo izklopiti izpisovanje sodih števil. Če bi napisali le\n",
    "\n",
    "```{code-block}\n",
    "for x in range(100):\n",
    "    if x % 2 == 0:\n",
    "        # print(x, 'je sod')\n",
    "    else:\n",
    "        print(x, 'je lih')\n",
    "```\n",
    "\n",
    "bi se Python pritožil, da je prva veja pogojnega stavka prazna, saj komentarje ignorira. Seveda bi lahko celoten program preuredili v\n",
    "\n",
    "```{code-block}\n",
    "for x in range(100):\n",
    "    if x % 2 != 0:\n",
    "        print(x, 'je lih')\n",
    "```\n",
    "\n",
    "vendar tega ne želimo (sploh pri večjih programih). S pomočjo stavka `pass` pa lahko napišemo\n",
    "\n",
    "```{code-block}\n",
    "for x in range(100):\n",
    "    if x % 2 == 0:\n",
    "        # print(x, 'je sod')\n",
    "        pass\n",
    "    else:\n",
    "        print(x, 'je lih')\n",
    "```\n",
    "\n",
    "Tudi če se odločimo, da bi zopet vklopili izpisovanje, lahko stavek `pass` pustimo v kodi, ker ne stori ničesar.\n",
    "\n",
    "## Metoda Monte-Carlo\n",
    "\n",
    "TODO"
   ]
  }
 ],
 "metadata": {
  "jupytext": {
   "cell_metadata_filter": "-all",
   "formats": "md:myst",
   "text_representation": {
    "extension": ".md",
    "format_name": "myst",
    "format_version": "0.8",
    "jupytext_version": "1.5.0"
   }
  },
  "kernelspec": {
   "display_name": "Python 3",
   "language": "python",
   "name": "python3"
  },
  "language_info": {
   "codemirror_mode": {
    "name": "ipython",
    "version": 3
   },
   "file_extension": ".py",
   "mimetype": "text/x-python",
   "name": "python",
   "nbconvert_exporter": "python",
   "pygments_lexer": "ipython3",
   "version": "3.7.8"
  },
  "source_map": [
   14,
   34,
   39,
   45,
   50,
   54,
   59,
   64,
   72,
   76,
   86,
   89,
   91,
   95,
   104,
   107,
   109,
   113,
   117,
   120,
   124,
   128,
   132,
   134,
   143,
   152,
   176,
   179,
   183,
   192,
   194,
   198,
   201,
   205,
   210,
   213,
   217,
   226,
   228,
   234,
   240,
   248,
   254,
   262,
   268
  ]
 },
 "nbformat": 4,
 "nbformat_minor": 4
}