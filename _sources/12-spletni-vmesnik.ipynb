{
 "cells": [
  {
   "cell_type": "markdown",
   "id": "specific-undergraduate",
   "metadata": {},
   "source": [
    "# Spletni vmesnik\n",
    "\n",
    "## Knjižnica `bottle`\n",
    "\n",
    "## Dinamične spletne strani\n",
    "\n",
    "## Predloge\n",
    "\n",
    "## Obrazci\n",
    "\n",
    "## Metoda POST in preusmeritve"
   ]
  }
 ],
 "metadata": {
  "jupytext": {
   "cell_metadata_filter": "-all",
   "formats": "md:myst",
   "text_representation": {
    "extension": ".md",
    "format_name": "myst",
    "format_version": "0.8",
    "jupytext_version": "1.5.0"
   }
  },
  "kernelspec": {
   "display_name": "Python 3",
   "language": "python",
   "name": "python3"
  },
  "language_info": {
   "codemirror_mode": {
    "name": "ipython",
    "version": 3
   },
   "file_extension": ".py",
   "mimetype": "text/x-python",
   "name": "python",
   "nbconvert_exporter": "python",
   "pygments_lexer": "ipython3",
   "version": "3.7.9"
  },
  "source_map": [
   14
  ]
 },
 "nbformat": 4,
 "nbformat_minor": 5
}